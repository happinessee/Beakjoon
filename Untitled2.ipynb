{
 "cells": [
  {
   "cell_type": "code",
   "execution_count": null,
   "metadata": {},
   "outputs": [],
   "source": [
    "import pyupbit\n",
    "import numpy as np\n",
    "\n",
    "\n",
    "def get_ror(k=0.5):\n",
    "    df = pybithumb.get_ohlcv(\"KRW-BTC\")\n",
    "    df['range'] = (df['high'] - df['low']) * k\n",
    "    df['target'] = df['open'] + df['range'].shift(1)\n",
    "\n",
    "    fee = 0.0005\n",
    "    df['ror'] = np.where(df['high'] > df['target'],\n",
    "                         df['close'] / df['target'] - fee,\n",
    "                         1)\n",
    "\n",
    "    ror = df['ror'].cumprod()[-2]\n",
    "    return ror\n",
    "\n",
    "\n",
    "for k in np.arange(0.1, 1.0, 0.1):\n",
    "    ror = get_ror(k)\n",
    "    print(\"%.1f %f\" % (k, ror))"
   ]
  }
 ],
 "metadata": {
  "kernelspec": {
   "display_name": "Python 3",
   "language": "python",
   "name": "python3"
  },
  "language_info": {
   "codemirror_mode": {
    "name": "ipython",
    "version": 3
   },
   "file_extension": ".py",
   "mimetype": "text/x-python",
   "name": "python",
   "nbconvert_exporter": "python",
   "pygments_lexer": "ipython3",
   "version": "3.8.5"
  }
 },
 "nbformat": 4,
 "nbformat_minor": 4
}
