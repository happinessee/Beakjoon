{
 "cells": [
  {
   "cell_type": "code",
   "execution_count": 3,
   "metadata": {},
   "outputs": [
    {
     "name": "stdin",
     "output_type": "stream",
     "text": [
      " 14\n"
     ]
    },
    {
     "name": "stdout",
     "output_type": "stream",
     "text": [
      "2/4\n"
     ]
    }
   ],
   "source": [
    "n = int(input())\n",
    "\n",
    "tmp = 0\n",
    "line = 0\n",
    "while n > tmp :\n",
    "    line += 1\n",
    "    tmp += line\n",
    "    \n",
    "num = tmp - n\n",
    "if line % 2 == 0 :\n",
    "    print(line - num, '/', num + 1, sep='')\n",
    "else :\n",
    "    print(num + 1, '/', line-num, sep='')\n",
    "    \n",
    "# 규칙을 찾는 것이 무엇보다 중요하구나."
   ]
  },
  {
   "cell_type": "code",
   "execution_count": null,
   "metadata": {},
   "outputs": [],
   "source": []
  }
 ],
 "metadata": {
  "kernelspec": {
   "display_name": "Python 3",
   "language": "python",
   "name": "python3"
  },
  "language_info": {
   "codemirror_mode": {
    "name": "ipython",
    "version": 3
   },
   "file_extension": ".py",
   "mimetype": "text/x-python",
   "name": "python",
   "nbconvert_exporter": "python",
   "pygments_lexer": "ipython3",
   "version": "3.8.5"
  }
 },
 "nbformat": 4,
 "nbformat_minor": 4
}
