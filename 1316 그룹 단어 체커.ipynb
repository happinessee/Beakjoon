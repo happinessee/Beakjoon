{
 "cells": [
  {
   "cell_type": "code",
   "execution_count": 18,
   "metadata": {},
   "outputs": [
    {
     "name": "stdin",
     "output_type": "stream",
     "text": [
      " 4\n",
      " aba\n",
      " abab\n",
      " abcabc\n",
      " a\n"
     ]
    },
    {
     "name": "stdout",
     "output_type": "stream",
     "text": [
      "1\n"
     ]
    }
   ],
   "source": [
    "n = int(input())\n",
    "n_set = set()\n",
    "count = 0\n",
    "tmp = 0\n",
    "\n",
    "for i in range(n) :\n",
    "    word = input()\n",
    "    tmp = 0\n",
    "    n_set.clear()\n",
    "    for j in range(len(word)) :\n",
    "        if (word[j] in n_set) :\n",
    "            if(word[j] == word[j-1]) :\n",
    "                tmp += 1\n",
    "                continue\n",
    "            \n",
    "            break\n",
    "        tmp += 1\n",
    "            \n",
    "        n_set.add(word[j])\n",
    "            \n",
    "    # print('tmp =', tmp, 'len(word) =', len(word))\n",
    "    if (tmp == len(word)) :\n",
    "        count += 1\n",
    "\n",
    "print(count)\n",
    "    "
   ]
  },
  {
   "cell_type": "code",
   "execution_count": null,
   "metadata": {},
   "outputs": [],
   "source": []
  }
 ],
 "metadata": {
  "kernelspec": {
   "display_name": "Python 3",
   "language": "python",
   "name": "python3"
  },
  "language_info": {
   "codemirror_mode": {
    "name": "ipython",
    "version": 3
   },
   "file_extension": ".py",
   "mimetype": "text/x-python",
   "name": "python",
   "nbconvert_exporter": "python",
   "pygments_lexer": "ipython3",
   "version": "3.8.5"
  }
 },
 "nbformat": 4,
 "nbformat_minor": 4
}
