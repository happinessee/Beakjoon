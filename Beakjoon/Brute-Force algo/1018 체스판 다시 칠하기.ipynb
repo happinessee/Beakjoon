{
 "cells": [
  {
   "cell_type": "code",
   "execution_count": 13,
   "metadata": {},
   "outputs": [
    {
     "name": "stdin",
     "output_type": "stream",
     "text": [
      " 8 8\n",
      " BWBWBWBW\n",
      " WBWBWBWB\n",
      " BWBWBWBW\n",
      " WBWBWBWB\n",
      " BWBWBWBW\n",
      " WBWBWBWB\n",
      " BWBWBWBW\n",
      " WBWBWBWW\n"
     ]
    },
    {
     "name": "stdout",
     "output_type": "stream",
     "text": [
      "1\n"
     ]
    }
   ],
   "source": [
    "# 제대로 작동하는지 check해보고, 고치는데 어느정도.\n",
    "# 그리고 방금 깨달았는데, if문의 순서를 제대로 넣지 않아서 시간이 어느정도 또 들었다.\n",
    "# 조건문의 순서 확실히 생각해보자\n",
    "\n",
    "# + 시간 초과가 발생한다 어떤 점을 줄일 수 있을까??\n",
    "\n",
    "n , m = map(int, input().split())\n",
    "\n",
    "chessboard = [[] * m ] * n\n",
    "\n",
    "# 체스판의 값을 입력받음\n",
    "for i in range(n) :\n",
    "    tmp_arr = list(input())\n",
    "    chessboard[i] = (tmp_arr)\n",
    "    \n",
    "# 체스판에서 바꾸어야 할 값이 몇개인지 찾는다.\n",
    "tmp = 65\n",
    "\n",
    "k = 0\n",
    "l = 0\n",
    "\n",
    "while(True) :\n",
    "    changeCount = 0\n",
    "    for i in range (4) :\n",
    "        qq = i * 2\n",
    "\n",
    "        for j in range (4) :\n",
    "            pp = j * 2\n",
    "\n",
    "            if (chessboard[k][l] == 'B') : # 체스판은 2개의 행이 반복되므로 이렇게 체크를 해주었다.\n",
    "                \n",
    "                if (chessboard[qq + k][pp + l] == 'W') :\n",
    "                    changeCount += 1\n",
    "                \n",
    "                if (chessboard[qq + k][pp + 1 + l] == 'B') :\n",
    "                    changeCount += 1\n",
    "                \n",
    "                if (chessboard[qq + 1 + k][pp + l] == 'B') :\n",
    "                    changeCount += 1\n",
    "                    \n",
    "                if (chessboard[qq + 1 + k][pp + 1 + l] == 'W') :\n",
    "                    changeCount += 1\n",
    "\n",
    "            else :\n",
    "                \n",
    "                if (chessboard[qq + k][pp + l] == 'B') :\n",
    "                    changeCount += 1\n",
    "                \n",
    "                if (chessboard[qq + k][pp + l + 1] == 'W') :\n",
    "                    changeCount += 1\n",
    "                \n",
    "                if (chessboard[qq + 1 + k][pp + l] == 'W') :\n",
    "                    changeCount += 1\n",
    "                    \n",
    "                if (chessboard[qq + 1 + k][pp + 1 + l] == 'B') :\n",
    "                    changeCount += 1\n",
    "    \n",
    "#    print(k, l)\n",
    "# 여기서 k과 l을 증가시켜주는데 전체 다 체크해주지 않아서 오류가 발생했던 것 같다.\n",
    "# 예제에서는 파악이 되지 않아 임의로 체크해보았다.\n",
    "    if (tmp > changeCount) :\n",
    "        tmp = changeCount\n",
    "    \n",
    "    if (l < m - 8) :\n",
    "        l += 1\n",
    "    \n",
    "    if (l == m - 7) :\n",
    "        l = 0\n",
    "        k += 1\n",
    "            \n",
    "        if (k > n - 8) :\n",
    "            break\n",
    "\n",
    "print(tmp)"
   ]
  },
  {
   "cell_type": "code",
   "execution_count": null,
   "metadata": {},
   "outputs": [],
   "source": [
    "10 13\n",
    "BBBBBBBBWBWBW\n",
    "BBBBBBBBBWBWB\n",
    "BBBBBBBBWBWBW\n",
    "BBBBBBBBBWBWB\n",
    "BBBBBBBBWBWBW\n",
    "BBBBBBBBBWBWB\n",
    "BBBBBBBBWBWBW\n",
    "BBBBBBBBBWBWB\n",
    "WWWWWWWWWWBWB\n",
    "WWWWWWWWWWBWB"
   ]
  }
 ],
 "metadata": {
  "kernelspec": {
   "display_name": "Python 3",
   "language": "python",
   "name": "python3"
  },
  "language_info": {
   "codemirror_mode": {
    "name": "ipython",
    "version": 3
   },
   "file_extension": ".py",
   "mimetype": "text/x-python",
   "name": "python",
   "nbconvert_exporter": "python",
   "pygments_lexer": "ipython3",
   "version": "3.8.5"
  }
 },
 "nbformat": 4,
 "nbformat_minor": 4
}
