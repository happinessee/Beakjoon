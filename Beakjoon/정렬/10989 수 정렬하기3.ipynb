{
 "cells": [
  {
   "cell_type": "code",
   "execution_count": 6,
   "metadata": {},
   "outputs": [
    {
     "name": "stdin",
     "output_type": "stream",
     "text": [
      " 5\n",
      " 2\n",
      " 4\n",
      " 1\n",
      " 1\n",
      " 3\n"
     ]
    },
    {
     "name": "stdout",
     "output_type": "stream",
     "text": [
      "1\n",
      "1\n",
      "2\n",
      "3\n",
      "4\n"
     ]
    }
   ],
   "source": [
    "n = int(input())\n",
    "\n",
    "count = [0] * 10001\n",
    "\n",
    "for i in range(n) :\n",
    "    num = int(input())\n",
    "    count[num] += 1\n",
    "    \n",
    "for i in range(10001) :\n",
    "    if (count[i] != 0) :\n",
    "        for j in range(count[i]) :\n",
    "            print(i)"
   ]
  },
  {
   "cell_type": "markdown",
   "metadata": {},
   "source": [
    "### memory 제한 8MB\n",
    "# 찾아보니 COUNTING SORT를 사용한다고 한다.\n",
    "# 참고 : https://bowbowbow.tistory.com/8 [멍멍멍]\n",
    "\n",
    "n = int(sys.stdin.readline())\n",
    "\n",
    "MAX_NUM = 10000\n",
    "\n",
    "#0으로 초기화된 입력될 MAX_NUM+1 길이의 배열 count를 생성합니다. \n",
    "count =[0]*(MAX_NUM+1) \n",
    "#countSum은 누적합을 저장하는 배열입니다. \n",
    "countSum =[0]*(MAX_NUM+1)\n",
    "\n",
    "A = [int(sys.stdin.readline()) for i in range(n)]\n",
    "\n",
    "for i in range(n) :\n",
    "    count[A[i]] += 1\n",
    "    \n",
    "countSum[0] = count[0]\n",
    "for i in range(1, MAX_NUM+1): \n",
    "    countSum[i] = countSum[i-1]+count[i]; \n",
    "    #B는 정렬된 결과를 저장하는 배열 \n",
    "B = [0]*(n+1) \n",
    "for i in range(n-1, -1, -1): \n",
    "    B[countSum[A[i]]] = A[i] \n",
    "    countSum[A[i]] -= 1 \n",
    "    \n",
    "#수열 A를 정렬한 결과인 수열 B를 출력한다. \n",
    "result = \"\" \n",
    "for i in range(1, n+1):\n",
    "    result += str(B[i]) + \"\\n\" \n",
    "print(result)\n"
   ]
  }
 ],
 "metadata": {
  "kernelspec": {
   "display_name": "Python 3",
   "language": "python",
   "name": "python3"
  },
  "language_info": {
   "codemirror_mode": {
    "name": "ipython",
    "version": 3
   },
   "file_extension": ".py",
   "mimetype": "text/x-python",
   "name": "python",
   "nbconvert_exporter": "python",
   "pygments_lexer": "ipython3",
   "version": "3.8.5"
  }
 },
 "nbformat": 4,
 "nbformat_minor": 4
}
