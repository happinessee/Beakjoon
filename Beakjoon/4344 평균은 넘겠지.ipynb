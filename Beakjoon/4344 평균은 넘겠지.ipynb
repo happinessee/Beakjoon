{
 "cells": [
  {
   "cell_type": "code",
   "execution_count": 31,
   "metadata": {},
   "outputs": [
    {
     "name": "stdin",
     "output_type": "stream",
     "text": [
      " 1\n",
      " 5 50 50 70 80 100\n"
     ]
    },
    {
     "name": "stdout",
     "output_type": "stream",
     "text": [
      "40.000jeju%\n"
     ]
    }
   ],
   "source": [
    "n = int(input())\n",
    "\n",
    "for i in range(n) :\n",
    "    count = 0\n",
    "    arr = list(map(int,input().split()))\n",
    "    testcase = arr[0]\n",
    "    del arr[0]\n",
    "    average = 0\n",
    "    for j in range(testcase) :\n",
    "        average += arr[j]\n",
    "    average = average / testcase\n",
    "    for j in range(testcase) :\n",
    "        if (arr[j] > average) :\n",
    "            count += 1\n",
    "    print('%0.3f'%round((count/testcase) * 100, 3),'%', sep='')"
   ]
  },
  {
   "cell_type": "code",
   "execution_count": null,
   "metadata": {},
   "outputs": [],
   "source": []
  }
 ],
 "metadata": {
  "kernelspec": {
   "display_name": "Python 3",
   "language": "python",
   "name": "python3"
  },
  "language_info": {
   "codemirror_mode": {
    "name": "ipython",
    "version": 3
   },
   "file_extension": ".py",
   "mimetype": "text/x-python",
   "name": "python",
   "nbconvert_exporter": "python",
   "pygments_lexer": "ipython3",
   "version": "3.8.5"
  }
 },
 "nbformat": 4,
 "nbformat_minor": 4
}
