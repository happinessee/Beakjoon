{
 "cells": [
  {
   "cell_type": "code",
   "execution_count": 19,
   "metadata": {},
   "outputs": [
    {
     "name": "stdin",
     "output_type": "stream",
     "text": [
      " c=c=\n"
     ]
    },
    {
     "name": "stdout",
     "output_type": "stream",
     "text": [
      "0 0\n",
      "1 1\n",
      "2 1\n",
      "3 2\n",
      "2\n"
     ]
    }
   ],
   "source": [
    "#알파벳을 찾는 문제이다. 특정 문자열을 가지면 그 문자 그대로 1,\n",
    "#아니라면 알파벳당 1개. tmp를 이용해 풀었다. 더 좋은 방법이 있을 것 같은데..\n",
    "# \n",
    "\n",
    "alphabet = ['c=', 'c-', 'dz=', 'd-', 'lj', 'nj', 's=', 'z=']\n",
    "n = input()\n",
    "count = 0\n",
    "tmp = 0\n",
    "\n",
    "for i in range(len(n)) :\n",
    "    \n",
    "    if (tmp > 0) :\n",
    "        tmp -= 1\n",
    "        continue\n",
    "        \n",
    "    for j in alphabet :\n",
    "        if (n[i : i + 2] == j) :\n",
    "            \n",
    "            if (n[i : i + 2] == 'z=' and n[i - 1 : i + 2] == 'dz=') :\n",
    "                break\n",
    "                \n",
    "            tmp = 1\n",
    "            count += 1\n",
    "            break\n",
    "            \n",
    "        elif (n[i : i + 3] == j) :\n",
    "            tmp = 2\n",
    "            count += 1\n",
    "            break\n",
    "    if(tmp == 0) :\n",
    "        count += 1\n",
    "\n",
    "print(count)"
   ]
  },
  {
   "cell_type": "code",
   "execution_count": null,
   "metadata": {},
   "outputs": [],
   "source": []
  }
 ],
 "metadata": {
  "kernelspec": {
   "display_name": "Python 3",
   "language": "python",
   "name": "python3"
  },
  "language_info": {
   "codemirror_mode": {
    "name": "ipython",
    "version": 3
   },
   "file_extension": ".py",
   "mimetype": "text/x-python",
   "name": "python",
   "nbconvert_exporter": "python",
   "pygments_lexer": "ipython3",
   "version": "3.8.5"
  }
 },
 "nbformat": 4,
 "nbformat_minor": 4
}
