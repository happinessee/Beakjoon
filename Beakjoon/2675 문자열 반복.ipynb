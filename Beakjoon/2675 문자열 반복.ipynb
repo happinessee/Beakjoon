{
 "cells": [
  {
   "cell_type": "code",
   "execution_count": 20,
   "metadata": {},
   "outputs": [
    {
     "name": "stdin",
     "output_type": "stream",
     "text": [
      " 2\n",
      " 3 abc\n"
     ]
    },
    {
     "name": "stdout",
     "output_type": "stream",
     "text": [
      "aaabbbccc\n"
     ]
    },
    {
     "name": "stdin",
     "output_type": "stream",
     "text": [
      " 4 dbc\n"
     ]
    },
    {
     "name": "stdout",
     "output_type": "stream",
     "text": [
      "ddddbbbbcccc\n"
     ]
    }
   ],
   "source": [
    "testcase = int(input())\n",
    "def solve() :\n",
    "    n, word = input().split()\n",
    "    word_list = []\n",
    "    for i in range (len(word)) :\n",
    "        for j in range (int(n)) :\n",
    "            word_list.append(word[i])\n",
    "\n",
    "    for i in range (int(n) * len(word)) :\n",
    "        print(word_list[i], end = '')\n",
    "    print()\n",
    "    # 뛰어쓰기를 안해줘도 주피터노트북은 그대로 떠서.. 왜 틀리는지 궁금했다 진짜.\n",
    "\n",
    "for i in range (testcase) :\n",
    "    solve()"
   ]
  },
  {
   "cell_type": "markdown",
   "metadata": {},
   "source": [
    "# 1"
   ]
  }
 ],
 "metadata": {
  "kernelspec": {
   "display_name": "Python 3",
   "language": "python",
   "name": "python3"
  },
  "language_info": {
   "codemirror_mode": {
    "name": "ipython",
    "version": 3
   },
   "file_extension": ".py",
   "mimetype": "text/x-python",
   "name": "python",
   "nbconvert_exporter": "python",
   "pygments_lexer": "ipython3",
   "version": "3.8.5"
  }
 },
 "nbformat": 4,
 "nbformat_minor": 4
}
