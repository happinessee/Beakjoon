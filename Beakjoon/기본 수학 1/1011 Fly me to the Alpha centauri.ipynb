{
 "cells": [
  {
   "cell_type": "code",
   "execution_count": 26,
   "metadata": {},
   "outputs": [
    {
     "name": "stdin",
     "output_type": "stream",
     "text": [
      " 2\n",
      " 45 1050\n"
     ]
    },
    {
     "name": "stdout",
     "output_type": "stream",
     "text": [
      "63\n"
     ]
    },
    {
     "name": "stdin",
     "output_type": "stream",
     "text": [
      " 45 1073\n"
     ]
    },
    {
     "name": "stdout",
     "output_type": "stream",
     "text": [
      "64\n"
     ]
    }
   ],
   "source": [
    "import math\n",
    "testcase = int(input())\n",
    "\n",
    "\n",
    "\n",
    "for j in range (testcase) :\n",
    "    \n",
    "    \n",
    "    dist_cur, dist_goal = map(int,input().split())\n",
    "    distance = dist_goal - dist_cur\n",
    "    \n",
    "    if (distance == 1) :\n",
    "        print(1)\n",
    "        continue\n",
    "    elif (distance == 2) :\n",
    "        print(2)\n",
    "        continue\n",
    "    elif (distance == 3) :\n",
    "        print(3)\n",
    "        continue\n",
    "    elif (distance == 4) :\n",
    "        print(3)\n",
    "        continue\n",
    "            \n",
    "    for i in range (3, math.ceil(math.sqrt(distance)) + 1) :\n",
    "\n",
    "        if (distance <= i ** 2) :\n",
    "            if (distance == i ** 2) :\n",
    "                print(i + (i-1))\n",
    "                # print('정확히', i, '정수배에 걸렸어요 :)')\n",
    "                continue\n",
    "                \n",
    "            elif (distance > (i-1) ** 2 and distance < i ** 2) :\n",
    "                \n",
    "                if (distance <= i ** 2 - i) :\n",
    "                    print(2 * (i-1))\n",
    "                    # print(i-1, '과', i, '사이에 걸렸어요! 그리고 사이의 절반보다 작아요')\n",
    "                    continue\n",
    "                \n",
    "                else :\n",
    "                    print(i + (i - 1))\n",
    "                    # print(i-1, i, '사이의 절반보다 커요')\n",
    "                    continue\n",
    "            \n",
    "# 틀린 이유 : i를 ++ 시켜주지 않았다.\n",
    "# + 성질에 대해 정확히 파악하지 못했다.\n",
    "# 4 와 9 사이에는 4개의 값만 가지는 것이 아니라\n",
    "# 중간으로 나누어 5,6 은 4개\n",
    "# 7, 8은 5개의 값을 가졌다.\n",
    "\n",
    "# 그리고 조건문을 조금 더 간추릴 수 있지 않을까 생각해본다."
   ]
  },
  {
   "cell_type": "code",
   "execution_count": null,
   "metadata": {},
   "outputs": [],
   "source": []
  }
 ],
 "metadata": {
  "kernelspec": {
   "display_name": "Python 3",
   "language": "python",
   "name": "python3"
  },
  "language_info": {
   "codemirror_mode": {
    "name": "ipython",
    "version": 3
   },
   "file_extension": ".py",
   "mimetype": "text/x-python",
   "name": "python",
   "nbconvert_exporter": "python",
   "pygments_lexer": "ipython3",
   "version": "3.8.5"
  }
 },
 "nbformat": 4,
 "nbformat_minor": 4
}
