{
 "cells": [
  {
   "cell_type": "code",
   "execution_count": 38,
   "metadata": {},
   "outputs": [
    {
     "name": "stdin",
     "output_type": "stream",
     "text": [
      " 3\n"
     ]
    },
    {
     "name": "stdout",
     "output_type": "stream",
     "text": [
      "1\n"
     ]
    }
   ],
   "source": [
    "sugar = int(input())\n",
    "\n",
    "max_n = sugar // 5\n",
    "count = 0\n",
    "\n",
    "for i in range (max_n, -1, -1) :\n",
    "    tmp = (sugar - (i * 5)) % 3\n",
    "    \n",
    "    if (tmp == 0) :\n",
    "        tmp = (sugar - (i * 5)) // 3\n",
    "        count = (i + tmp) \n",
    "        print(count)\n",
    "        break\n",
    "    \n",
    "    else : \n",
    "        if (i == 0) :\n",
    "            print(-1)\n",
    "        continue"
   ]
  },
  {
   "cell_type": "code",
   "execution_count": null,
   "metadata": {},
   "outputs": [],
   "source": []
  }
 ],
 "metadata": {
  "kernelspec": {
   "display_name": "Python 3",
   "language": "python",
   "name": "python3"
  },
  "language_info": {
   "codemirror_mode": {
    "name": "ipython",
    "version": 3
   },
   "file_extension": ".py",
   "mimetype": "text/x-python",
   "name": "python",
   "nbconvert_exporter": "python",
   "pygments_lexer": "ipython3",
   "version": "3.8.5"
  }
 },
 "nbformat": 4,
 "nbformat_minor": 4
}
