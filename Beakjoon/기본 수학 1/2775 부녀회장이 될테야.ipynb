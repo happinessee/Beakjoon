{
 "cells": [
  {
   "cell_type": "code",
   "execution_count": 36,
   "metadata": {},
   "outputs": [
    {
     "name": "stdin",
     "output_type": "stream",
     "text": [
      " 2\n",
      " 1\n",
      " 3\n"
     ]
    },
    {
     "name": "stdout",
     "output_type": "stream",
     "text": [
      "6\n"
     ]
    },
    {
     "name": "stdin",
     "output_type": "stream",
     "text": [
      " 2\n",
      " 3\n"
     ]
    },
    {
     "name": "stdout",
     "output_type": "stream",
     "text": [
      "10\n"
     ]
    }
   ],
   "source": [
    "testcase = int(input())\n",
    "\n",
    "def apartment_array(k, n) :\n",
    "    arr = [[0 for col in range(n)] for row in range(k+1)]\n",
    "    \n",
    "    # 아파트 배열 기본 값 초기화\n",
    "    for i in range (k + 1) :\n",
    "        arr[i][0] = 1\n",
    "    \n",
    "    for j in range (n) :\n",
    "        arr[0][j] = j + 1\n",
    "    \n",
    "    #----------------------------\n",
    "    \n",
    "    for i in range (k + 1) :\n",
    "        for j in range (n) :\n",
    "            \n",
    "            if (i > 0 and j > 0) :\n",
    "                arr[i][j] = arr[i][j-1] + arr[i-1][j]\n",
    "    return arr\n",
    "\n",
    "\n",
    "for i in range (testcase) :\n",
    "    k = int(input()) # 층\n",
    "    n = int(input()) # 호\n",
    "    \n",
    "    apart = apartment_array(k = k, n = n)\n",
    "    \n",
    "    print(apart[k][n-1])\n",
    "    \n",
    "    \n",
    "    \n",
    "            \n",
    "            \n",
    "            \n",
    "    "
   ]
  },
  {
   "cell_type": "code",
   "execution_count": null,
   "metadata": {},
   "outputs": [],
   "source": []
  }
 ],
 "metadata": {
  "kernelspec": {
   "display_name": "Python 3",
   "language": "python",
   "name": "python3"
  },
  "language_info": {
   "codemirror_mode": {
    "name": "ipython",
    "version": 3
   },
   "file_extension": ".py",
   "mimetype": "text/x-python",
   "name": "python",
   "nbconvert_exporter": "python",
   "pygments_lexer": "ipython3",
   "version": "3.8.5"
  }
 },
 "nbformat": 4,
 "nbformat_minor": 4
}
