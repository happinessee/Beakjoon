{
 "cells": [
  {
   "cell_type": "code",
   "execution_count": 15,
   "metadata": {},
   "outputs": [
    {
     "name": "stdin",
     "output_type": "stream",
     "text": [
      " UNUCIC\n"
     ]
    },
    {
     "name": "stdout",
     "output_type": "stream",
     "text": [
      "36\n"
     ]
    }
   ],
   "source": [
    "dic = {'A' : 2, 'B' : 2, 'C' : 2 , 'D' : 3, \"E\" : 3, \"F\" : 3, \"G\" : 4, \"H\" : 4, \"I\" : 4, 'J' : 5, 'K' : 5, 'L' : 5, 'M' : 6, 'N':6, 'O' : 6,\n",
    "      'P' : 7, 'Q' : 7, 'R' : 7, 'S' : 7, 'T': 8, 'U' : 8, 'V' : 8, 'W' : 9, 'X' : 9, 'Y' : 9, 'Z' : 9}\n",
    "\n",
    "word = input()\n",
    "word = list(word)\n",
    "time = 0\n",
    "\n",
    "for i in range(len(word)) :\n",
    "    time += (dic[word[i]] + 1)\n",
    "print(time)\n",
    "# 항상 문제를 잘 읽자.\n"
   ]
  },
  {
   "cell_type": "code",
   "execution_count": null,
   "metadata": {},
   "outputs": [],
   "source": []
  }
 ],
 "metadata": {
  "kernelspec": {
   "display_name": "Python 3",
   "language": "python",
   "name": "python3"
  },
  "language_info": {
   "codemirror_mode": {
    "name": "ipython",
    "version": 3
   },
   "file_extension": ".py",
   "mimetype": "text/x-python",
   "name": "python",
   "nbconvert_exporter": "python",
   "pygments_lexer": "ipython3",
   "version": "3.8.5"
  }
 },
 "nbformat": 4,
 "nbformat_minor": 4
}
