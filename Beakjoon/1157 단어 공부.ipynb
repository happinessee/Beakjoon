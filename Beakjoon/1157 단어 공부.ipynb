{
 "cells": [
  {
   "cell_type": "code",
   "execution_count": 26,
   "metadata": {},
   "outputs": [
    {
     "name": "stdin",
     "output_type": "stream",
     "text": [
      " Mississipi\n"
     ]
    },
    {
     "name": "stdout",
     "output_type": "stream",
     "text": [
      "[4, 4, 1, 1, 0, 0, 0, 0, 0, 0, 0, 0, 0, 0, 0, 0, 0, 0, 0, 0, 0, 0, 0, 0, 0, 0]\n",
      "[0, 0, 0, 0, 0, 0, 0, 0, 4, 0, 0, 0, 1, 0, 0, 1, 0, 0, 4, 0, 0, 0, 0, 0, 0, 0]\n",
      "?\n"
     ]
    }
   ],
   "source": [
    "word = input()\n",
    "word = word.upper()\n",
    "arr = list(word)\n",
    "count_arr = []\n",
    "tmp_arr = []\n",
    "# 리스트에서 각 단어의 개수를 구해서 넣어준다.\n",
    "for i in range (65, 91) :\n",
    "    count_arr.append(arr.count(chr(i)))\n",
    "    tmp_arr.append(arr.count(chr(i)))\n",
    "\n",
    "tmp_arr.sort(reverse = True)\n",
    "value = 0\n",
    "if (tmp_arr[0] == tmp_arr[1]) :\n",
    "    print('?')\n",
    "                     \n",
    "\n",
    "# 가장 max인 값의 index를 찾아 65를 더해서 대문자로 만들어준다.\n",
    "else :\n",
    "    for i in range(0, 26) :\n",
    "        if (value < count_arr[i]) :\n",
    "            value = count_arr[i]\n",
    "    print(chr(count_arr.index(value) + 65))\n",
    "\n",
    "# 맨날 확인 test용 print와 같이 넣어서 제출할때마다 틀리네.. 다음부터는 이런 실수 멈춰!"
   ]
  },
  {
   "cell_type": "code",
   "execution_count": null,
   "metadata": {},
   "outputs": [],
   "source": []
  }
 ],
 "metadata": {
  "kernelspec": {
   "display_name": "Python 3",
   "language": "python",
   "name": "python3"
  },
  "language_info": {
   "codemirror_mode": {
    "name": "ipython",
    "version": 3
   },
   "file_extension": ".py",
   "mimetype": "text/x-python",
   "name": "python",
   "nbconvert_exporter": "python",
   "pygments_lexer": "ipython3",
   "version": "3.8.5"
  }
 },
 "nbformat": 4,
 "nbformat_minor": 4
}
