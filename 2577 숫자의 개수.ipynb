{
 "cells": [
  {
   "cell_type": "code",
   "execution_count": 29,
   "metadata": {},
   "outputs": [
    {
     "name": "stdin",
     "output_type": "stream",
     "text": [
      " 150\n",
      " 266\n",
      " 427\n"
     ]
    },
    {
     "name": "stdout",
     "output_type": "stream",
     "text": [
      "[1, 7, 0, 3, 7, 3, 0, 0]\n",
      "3\n",
      "1\n",
      "0\n",
      "2\n",
      "0\n",
      "0\n",
      "0\n",
      "2\n",
      "0\n",
      "0\n"
     ]
    }
   ],
   "source": [
    "n1 = int(input())\n",
    "n2 = int(input())\n",
    "n3 = int(input())\n",
    "result = n1 * n2 * n3\n",
    "result_tmp = result\n",
    "arr = []\n",
    "count = 0\n",
    "for i in range(10) :\n",
    "    result_tmp = int(result_tmp / 10)\n",
    "    count += 1\n",
    "    if result_tmp < 10 :\n",
    "        break\n",
    "\n",
    "\n",
    "while count >= 0 :\n",
    "    arr.append(int(result / 10 ** (count)))\n",
    "    result = int(result % 10 ** (count))\n",
    "    count -= 1\n",
    "    \n",
    "        \n",
    "print(arr)\n",
    "for i in range (10) :\n",
    "    print(arr.count(i))\n",
    "        "
   ]
  },
  {
   "cell_type": "code",
   "execution_count": null,
   "metadata": {},
   "outputs": [],
   "source": []
  }
 ],
 "metadata": {
  "kernelspec": {
   "display_name": "Python 3",
   "language": "python",
   "name": "python3"
  },
  "language_info": {
   "codemirror_mode": {
    "name": "ipython",
    "version": 3
   },
   "file_extension": ".py",
   "mimetype": "text/x-python",
   "name": "python",
   "nbconvert_exporter": "python",
   "pygments_lexer": "ipython3",
   "version": "3.8.5"
  }
 },
 "nbformat": 4,
 "nbformat_minor": 4
}
