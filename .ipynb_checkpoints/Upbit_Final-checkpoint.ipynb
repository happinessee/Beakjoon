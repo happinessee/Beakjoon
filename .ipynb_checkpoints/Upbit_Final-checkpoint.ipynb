{
 "cells": [
  {
   "cell_type": "code",
   "execution_count": 6,
   "metadata": {},
   "outputs": [
    {
     "name": "stdout",
     "output_type": "stream",
     "text": [
      "자료 병합 중... 99.861 % \r"
     ]
    }
   ],
   "source": [
    "import pandas as pd\n",
    "import time\n",
    "import datetime\n",
    "import pyupbit\n",
    "\n",
    "startday = \"2021-02-09\"\n",
    "length = 1\n",
    "\n",
    "x = -1 # 전역변수 설정\n",
    "z = 0 # 전역변수 설정 , 매도를 한 횟수\n",
    "spiderCount = 0 # 전역변수 설정 , 매수를 한 횟수\n",
    "\n",
    "totalMinutenum = 0 # 총 분봉의 개수\n",
    "\n",
    "list(startday) # list() 함수 이용\n",
    "a = startday.split('-') # '-'를 구분자로 쪼갭니다.\n",
    "\n",
    "\n",
    "f = datetime.datetime(int(a[0]),int(a[1]),int(a[2])) # 날짜 입력\n",
    "\n",
    "endday = f + datetime.timedelta(days=length) # 시작 날짜 + 구간 길이\n",
    "\n",
    "#df = pyupbit.get_ohlcv(ticker=\"KRW-BTC\", interval=\"day\", count=length, to=endday)\n",
    "\n",
    "\n",
    "date = endday\n",
    "dfs = []\n",
    "\n",
    "for i in range(10 * length) : # 1440분 = 1일\n",
    "    df = pyupbit.get_ohlcv(\"KRW-BTC\", interval = \"minute1\", count = 144, to=date)\n",
    "    dfs.append(df)\n",
    "\n",
    "    date = df.index[0]\n",
    "    time.sleep(0.1)\n",
    "    totalMinutenum += 144 # totalMinutenum에 분 봉의 개수가 채워지는 과정\n",
    "\n",
    "    if (i % 3) == 0 : #gui\n",
    "        print(\"초기 데이터 로딩중...\\\\\", end = \"\\r\", flush = True)\n",
    "    \n",
    "    if (i % 3) == 1 : #gui\n",
    "        print(\"초기 데이터 로딩중...ㅡ\", end = \"\\r\", flush = True)\n",
    "        \n",
    "    if (i % 3) == 2 : #gui\n",
    "        print(\"초기 데이터 로딩중.../\", end = \"\\r\", flush = True)\n",
    "\n",
    "print(\" \", end = \"\\r\", flush = True) # gui 초기화\n",
    "time.sleep(0.1) # 렉 방지\n",
    "        \n",
    "df = pd.concat(dfs).sort_index()\n",
    "# print(len(df))\n",
    "# print(df)\n",
    "\n",
    "average = []\n",
    "\n",
    "for i in range (totalMinutenum) : # gui\n",
    "    average.append(((df[\"open\"].iloc[i]) + (df[\"high\"].iloc[i]) + (df[\"low\"].iloc[i]) + (df[\"close\"].iloc[i])) / 4)\n",
    "    if (i % 3) == 1 :\n",
    "        print(f'자료 병합 중... {(100*i/totalMinutenum):.3f} % ', end = \"\\r\", flush = True)\n"
   ]
  },
  {
   "cell_type": "code",
   "execution_count": null,
   "metadata": {},
   "outputs": [],
   "source": []
  },
  {
   "cell_type": "code",
   "execution_count": 2,
   "metadata": {},
   "outputs": [
    {
     "name": "stdout",
     "output_type": "stream",
     "text": [
      "Collecting pyupbit\n",
      "  Downloading pyupbit-0.2.14-py3-none-any.whl (17 kB)\n",
      "Collecting websockets\n",
      "  Downloading websockets-9.0.1-cp38-cp38-win_amd64.whl (89 kB)\n",
      "Requirement already satisfied: requests in c:\\users\\gygur\\anaconda3\\lib\\site-packages (from pyupbit) (2.24.0)\n",
      "Requirement already satisfied: pandas in c:\\users\\gygur\\anaconda3\\lib\\site-packages (from pyupbit) (1.1.3)\n",
      "Collecting pyjwt>=2.0.0\n",
      "  Downloading PyJWT-2.1.0-py3-none-any.whl (16 kB)\n",
      "Requirement already satisfied: idna<3,>=2.5 in c:\\users\\gygur\\anaconda3\\lib\\site-packages (from requests->pyupbit) (2.10)\n",
      "Requirement already satisfied: urllib3!=1.25.0,!=1.25.1,<1.26,>=1.21.1 in c:\\users\\gygur\\anaconda3\\lib\\site-packages (from requests->pyupbit) (1.25.11)\n",
      "Requirement already satisfied: certifi>=2017.4.17 in c:\\users\\gygur\\anaconda3\\lib\\site-packages (from requests->pyupbit) (2020.6.20)\n",
      "Requirement already satisfied: chardet<4,>=3.0.2 in c:\\users\\gygur\\anaconda3\\lib\\site-packages (from requests->pyupbit) (3.0.4)\n",
      "Requirement already satisfied: pytz>=2017.2 in c:\\users\\gygur\\anaconda3\\lib\\site-packages (from pandas->pyupbit) (2020.1)\n",
      "Requirement already satisfied: python-dateutil>=2.7.3 in c:\\users\\gygur\\anaconda3\\lib\\site-packages (from pandas->pyupbit) (2.8.1)\n",
      "Requirement already satisfied: numpy>=1.15.4 in c:\\users\\gygur\\anaconda3\\lib\\site-packages (from pandas->pyupbit) (1.19.2)\n",
      "Requirement already satisfied: six>=1.5 in c:\\users\\gygur\\anaconda3\\lib\\site-packages (from python-dateutil>=2.7.3->pandas->pyupbit) (1.15.0)\n",
      "Installing collected packages: websockets, pyjwt, pyupbit\n",
      "Successfully installed pyjwt-2.1.0 pyupbit-0.2.14 websockets-9.0.1\n",
      "Note: you may need to restart the kernel to use updated packages.\n"
     ]
    }
   ],
   "source": [
    "pip install pyupbit"
   ]
  },
  {
   "cell_type": "code",
   "execution_count": 5,
   "metadata": {},
   "outputs": [
    {
     "name": "stdout",
     "output_type": "stream",
     "text": [
      "14 번 매수,  10 번 매도 했습니다.\n",
      "70.01324638753916 가 됬습니다.\n"
     ]
    }
   ],
   "source": [
    "BTCprice = average[0] #pyupbit.get_current_price(\"KRW-BTC\")\n",
    "\n",
    "btcpriceL = []\n",
    "\n",
    "for i in range(20) :\n",
    "    btcpriceL.append(BTCprice * (1 - (0.01)*i)) # 0번 배열 >> i = 1 인 경우\n",
    "\n",
    "\n",
    "startBtcPrice = average[0]\n",
    "currentBTCbalances = 0\n",
    "\n",
    "\n",
    "myMoney = 100 # 초기 설정가\n",
    "seed = 1\n",
    "v = 3.5  # 거미줄 두께가 3.5%seed\n",
    "savedWebprice = [] # 거미줄 가격 저장을 위한 변수\n",
    "\n",
    "currentBTCbalances = (30*seed) / startBtcPrice # 처음에 30% 시드로 매수\n",
    "myMoney = myMoney - (30 * seed) - (30 * seed) * 0.0005\n",
    "\n",
    "for k in range (totalMinutenum) :\n",
    "    \n",
    "    currentBTCprice = average[k] # 비코 가격 한개씩 받기\n",
    "    \n",
    "    for i in range(20) : # 거미줄이 쳐지는 func\n",
    "        \n",
    "        if i > x : # 사놓은 거미줄을 반복하지 않기 위해\n",
    "                 \n",
    "            if currentBTCprice <= btcpriceL[i] : # 현재값이 거미줄 설정값보다 작은 경우\n",
    "                \n",
    "                \n",
    "                currentBTCbalances += ((v* seed) / currentBTCprice)\n",
    "                myMoney = myMoney - (v * seed) - (v*seed) * 0.0005# 거미줄 매도 >> 전체 시드에 반영\n",
    "                \n",
    "                x = i # 거미줄의 번호 저장\n",
    "                savedWebprice.append(currentBTCprice) # 해당 거미줄의 가격 저장 \n",
    "                \n",
    "                spiderCount += 1 # 거미줄을 친 횟수(=매수 횟수) 저장\n",
    "                break\n",
    "    \n",
    "    # 거미줄이 빠지는 func\n",
    "        # 이하가 아닌 미만으로 하면 2분봉이 아닌 1분봉 내에서도 충분히 판단이 가능함 응용할것.\n",
    "    \n",
    "    \n",
    "    # 거미가 들어가는 func\n",
    "        # 메모장에 있는 1,2번 항목에 대한 정의\n",
    "    \n",
    "    # 거미가 빠지는 func\n",
    "    \n",
    "    if (currentBTCprice >= startBtcPrice) and (x != -1) : # BTC 현재가가 처음 진입가보다 커지거나 거미줄이 있으면? # 보완해줘야하는 부분..\n",
    "        myMoney = myMoney + (currentBTCbalances * startBtcPrice) - (currentBTCbalances * startBtcPrice) * 0.00005\n",
    "        \n",
    "        x = -1 # x 초기화\n",
    "        currentBTCbalances = 0 # 현재 가지고 있는 BTC 풀 매도\n",
    "        z= z+1 # 매도 횟수 증가\n",
    "        \n",
    "        seed = myMoney / 100 # seed 갱신\n",
    "        startBtcPrice = average[k] # 진입가 갱신\n",
    "        currentBTCbalances = (30*seed) / startBtcPrice # 재진입\n",
    "    \n",
    "        myMoney = myMoney - (30 * seed) - (30*seed) * 0.0005 # 재진입\n",
    "        \n",
    "        \n",
    "    if (k % 2) == 1 :\n",
    "        print(f'돈 버는중...{(100*k/totalMinutenum):.3f} % ', end = \"\\r\", flush = True)\n",
    "        \n",
    "print(spiderCount,\"번 매수, \",z,\"번 매도 했습니다.\")\n",
    "print(myMoney,\"가 됬습니다.\")"
   ]
  },
  {
   "cell_type": "code",
   "execution_count": null,
   "metadata": {},
   "outputs": [],
   "source": []
  }
 ],
 "metadata": {
  "kernelspec": {
   "display_name": "Python 3",
   "language": "python",
   "name": "python3"
  },
  "language_info": {
   "codemirror_mode": {
    "name": "ipython",
    "version": 3
   },
   "file_extension": ".py",
   "mimetype": "text/x-python",
   "name": "python",
   "nbconvert_exporter": "python",
   "pygments_lexer": "ipython3",
   "version": "3.8.5"
  }
 },
 "nbformat": 4,
 "nbformat_minor": 4
}
