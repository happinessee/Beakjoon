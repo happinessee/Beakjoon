{
 "cells": [
  {
   "cell_type": "code",
   "execution_count": 7,
   "metadata": {},
   "outputs": [
    {
     "name": "stdin",
     "output_type": "stream",
     "text": [
      " 734 893\n"
     ]
    },
    {
     "name": "stdout",
     "output_type": "stream",
     "text": [
      "437\n"
     ]
    }
   ],
   "source": [
    "n1, n2 = list(map(int,input().split()))\n",
    "\n",
    "n1_arr = list(str(n1))\n",
    "n2_arr = list(str(n2))\n",
    "\n",
    "temp = n1_arr[0]\n",
    "n1_arr[0] = n1_arr[2]\n",
    "n1_arr[2] = temp\n",
    "\n",
    "temp1 = n2_arr[0]\n",
    "n2_arr[0] = n2_arr[2]\n",
    "n2_arr[2] = temp1\n",
    "\n",
    "temp2 = ''\n",
    "temp3 = ''\n",
    "for i in range (3) :\n",
    "    temp2 += n1_arr[i]\n",
    "    temp3 += n2_arr[i]\n",
    "    \n",
    "if (int(temp2) > int(temp3)) :\n",
    "    print(temp2)\n",
    "else :\n",
    "    print(temp3)\n",
    "\n",
    "# 되게 번거롭게 짠 느낌이긴 하네."
   ]
  },
  {
   "cell_type": "code",
   "execution_count": null,
   "metadata": {},
   "outputs": [],
   "source": []
  }
 ],
 "metadata": {
  "kernelspec": {
   "display_name": "Python 3",
   "language": "python",
   "name": "python3"
  },
  "language_info": {
   "codemirror_mode": {
    "name": "ipython",
    "version": 3
   },
   "file_extension": ".py",
   "mimetype": "text/x-python",
   "name": "python",
   "nbconvert_exporter": "python",
   "pygments_lexer": "ipython3",
   "version": "3.8.5"
  }
 },
 "nbformat": 4,
 "nbformat_minor": 4
}
