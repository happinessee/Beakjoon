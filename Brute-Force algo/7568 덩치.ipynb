{
 "cells": [
  {
   "cell_type": "code",
   "execution_count": 29,
   "metadata": {},
   "outputs": [
    {
     "name": "stdin",
     "output_type": "stream",
     "text": [
      " 5\n",
      " 55 185\n",
      " 58 183\n",
      " 88 186\n",
      " 60 175\n",
      " 46 155\n"
     ]
    },
    {
     "name": "stdout",
     "output_type": "stream",
     "text": [
      "2 2 1 2 5\n"
     ]
    }
   ],
   "source": [
    "# 19:54 ~ 20:37\n",
    "\n",
    "n = int(input())\n",
    "arr = [] * n\n",
    "rank_arr = [] * n\n",
    "# 몸무게와 키를 입력받는다.\n",
    "for i in range(n) :\n",
    "    x, y = map(int, input().split())\n",
    "    arr.append([x, y])\n",
    "\n",
    "for i in range(n) :\n",
    "    \n",
    "    rank = 1\n",
    "    \n",
    "    for j in range(n) :\n",
    "\n",
    "        if (arr[i][0] > arr[j][0] and arr[i][1] > arr[j][1]) :\n",
    "            continue\n",
    "            \n",
    "        elif (arr[i][0] >= arr[j][0] or arr[i][1] >= arr[j][1]) :    # 틀렸던 이유 1\n",
    "                                                                     # 크거나 같다는 조건을 붙여주지 않아 어느 한 값 (키 혹은 몸무게)이 같다면\n",
    "                                                                     # 순위가 갈려버렸다. (덩치의 기준으로는 이게 맞긴 한데.. ^^)\n",
    "            continue\n",
    "            \n",
    "        else : # 위의 조건을 만족하지 않으면 rank를 1씩 올려준다.\n",
    "            rank += 1\n",
    "    \n",
    "    rank_arr.insert(i, rank) # \n",
    "    \n",
    "for i in range(n) :\n",
    "    if (i == n - 1) :\n",
    "        print(rank_arr[i])\n",
    "    else :\n",
    "        print(rank_arr[i], end = ' ')"
   ]
  },
  {
   "cell_type": "markdown",
   "metadata": {},
   "source": [
    "5\n",
    "55 185\n",
    "58 183\n",
    "88 186\n",
    "60 175\n",
    "46 155"
   ]
  }
 ],
 "metadata": {
  "kernelspec": {
   "display_name": "Python 3",
   "language": "python",
   "name": "python3"
  },
  "language_info": {
   "codemirror_mode": {
    "name": "ipython",
    "version": 3
   },
   "file_extension": ".py",
   "mimetype": "text/x-python",
   "name": "python",
   "nbconvert_exporter": "python",
   "pygments_lexer": "ipython3",
   "version": "3.8.5"
  }
 },
 "nbformat": 4,
 "nbformat_minor": 4
}
