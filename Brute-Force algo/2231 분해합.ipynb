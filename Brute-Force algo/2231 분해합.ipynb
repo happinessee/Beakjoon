{
 "cells": [
  {
   "cell_type": "code",
   "execution_count": 46,
   "metadata": {},
   "outputs": [
    {
     "name": "stdin",
     "output_type": "stream",
     "text": [
      " 6\n"
     ]
    },
    {
     "name": "stdout",
     "output_type": "stream",
     "text": [
      "3\n"
     ]
    }
   ],
   "source": [
    "# 245의 분해합은 256(=245+2+4+5)\n",
    "\n",
    "n = input()\n",
    "    \n",
    "for i in range(1, int(n) + 1) :\n",
    "    \n",
    "    sum = i\n",
    "    sum1 = str(i)\n",
    "    \n",
    "    for j in range(len(sum1)) :\n",
    "        sum += int(sum1[j])\n",
    "    \n",
    "    if (sum == int(n)) :\n",
    "        print(i)\n",
    "        break\n",
    "\n",
    "    if (i == int(n)) :\n",
    "        print(0)\n",
    "        break\n",
    "    "
   ]
  },
  {
   "cell_type": "code",
   "execution_count": null,
   "metadata": {},
   "outputs": [],
   "source": []
  }
 ],
 "metadata": {
  "kernelspec": {
   "display_name": "Python 3",
   "language": "python",
   "name": "python3"
  },
  "language_info": {
   "codemirror_mode": {
    "name": "ipython",
    "version": 3
   },
   "file_extension": ".py",
   "mimetype": "text/x-python",
   "name": "python",
   "nbconvert_exporter": "python",
   "pygments_lexer": "ipython3",
   "version": "3.8.5"
  }
 },
 "nbformat": 4,
 "nbformat_minor": 4
}
