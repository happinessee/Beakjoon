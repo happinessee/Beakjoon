{
 "cells": [
  {
   "cell_type": "code",
   "execution_count": 23,
   "metadata": {},
   "outputs": [
    {
     "name": "stdin",
     "output_type": "stream",
     "text": [
      " 4 100\n",
      " 31 32 33 40\n"
     ]
    },
    {
     "name": "stdout",
     "output_type": "stream",
     "text": [
      "96\n"
     ]
    }
   ],
   "source": [
    "# N장의 카드에 써져 있는 숫자가 주어졌을 때, M을 넘지 않으면서 M에 최대한 가까운 카드 3장의 합을 구해 출력하시오.\n",
    "\n",
    "# 15:56 ~ 16:20\n",
    "# 한눈 팔지 말고 집중해라!\n",
    "\n",
    "n , m = map(int, input().split())\n",
    "\n",
    "card_arr = list(map(int, input().split()))\n",
    "temp = 1000000\n",
    "\n",
    "for i in range(n):\n",
    "    for j in range(n):\n",
    "        for k in range(n):\n",
    "            \n",
    "            if (i == j or j == k or i == k) :\n",
    "                continue\n",
    "                \n",
    "            blackjack = card_arr[i]+card_arr[j]+card_arr[k]\n",
    "            \n",
    "            if blackjack <= m : # 이 조건이 없어서 예제는 만족하지만, m이 넘는 값이 나와버렸다.\n",
    "                \n",
    "                if ((m - blackjack) < temp) :\n",
    "                    temp = m - blackjack\n",
    "                    answer = blackjack\n",
    "            \n",
    "print(answer)"
   ]
  },
  {
   "cell_type": "code",
   "execution_count": null,
   "metadata": {},
   "outputs": [],
   "source": []
  }
 ],
 "metadata": {
  "kernelspec": {
   "display_name": "Python 3",
   "language": "python",
   "name": "python3"
  },
  "language_info": {
   "codemirror_mode": {
    "name": "ipython",
    "version": 3
   },
   "file_extension": ".py",
   "mimetype": "text/x-python",
   "name": "python",
   "nbconvert_exporter": "python",
   "pygments_lexer": "ipython3",
   "version": "3.8.5"
  }
 },
 "nbformat": 4,
 "nbformat_minor": 4
}
