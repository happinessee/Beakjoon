{
 "cells": [
  {
   "cell_type": "code",
   "execution_count": 2,
   "metadata": {},
   "outputs": [
    {
     "name": "stdout",
     "output_type": "stream",
     "text": [
      "====== Request ======\n",
      "<binance_f.impl.restapirequest.RestApiRequest object at 0x000002A64B8221C0>\n",
      "header:{'client_SDK_Version': 'binance_futures-0.0.1-py3.9', 'Content-Type': 'application/x-www-form-urlencoded', 'X-MBX-APIKEY': 'vDiLBxzA2VPlSuBLYXiDF47mScyldTANFIdysXlZYbVtcM9MA7g65F0EKPwG1w9k'}\n",
      "host:https://testnet.binancefuture.com\n",
      "json_parser:None\n",
      "method:GET\n",
      "post_body:\n",
      "url:/fapi/v2/positionRisk?recvWindow=60000&timestamp=1622184239268&signature=02ef1bfb02ddcee3d4d15baddf3ccf10086b0cefcb92366b72bb207481eba4fe\n",
      "=====================\n"
     ]
    },
    {
     "ename": "BinanceApiException",
     "evalue": "('ExecuteError', '[Executing] -2015: Invalid API-key, IP, or permissions for action, request ip: 168.131.206.182')",
     "output_type": "error",
     "traceback": [
      "\u001b[1;31m---------------------------------------------------------------------------\u001b[0m",
      "\u001b[1;31mBinanceApiException\u001b[0m                       Traceback (most recent call last)",
      "\u001b[1;32m<ipython-input-2-59df78d043ac>\u001b[0m in \u001b[0;36m<module>\u001b[1;34m\u001b[0m\n\u001b[0;32m     27\u001b[0m \u001b[0mclient\u001b[0m \u001b[1;33m=\u001b[0m \u001b[0mClient\u001b[0m\u001b[1;33m(\u001b[0m\u001b[0mbinance_api\u001b[0m\u001b[1;33m,\u001b[0m \u001b[0mbinance_secret\u001b[0m\u001b[1;33m)\u001b[0m\u001b[1;33m\u001b[0m\u001b[1;33m\u001b[0m\u001b[0m\n\u001b[0;32m     28\u001b[0m \u001b[1;33m\u001b[0m\u001b[0m\n\u001b[1;32m---> 29\u001b[1;33m \u001b[0mresult\u001b[0m \u001b[1;33m=\u001b[0m \u001b[0mrequest_client\u001b[0m\u001b[1;33m.\u001b[0m\u001b[0mget_position_v2\u001b[0m\u001b[1;33m(\u001b[0m\u001b[1;33m)\u001b[0m\u001b[1;33m\u001b[0m\u001b[1;33m\u001b[0m\u001b[0m\n\u001b[0m\u001b[0;32m     30\u001b[0m \u001b[0mPrintMix\u001b[0m\u001b[1;33m.\u001b[0m\u001b[0mprint_data\u001b[0m\u001b[1;33m(\u001b[0m\u001b[0mresult\u001b[0m\u001b[1;33m)\u001b[0m\u001b[1;33m\u001b[0m\u001b[1;33m\u001b[0m\u001b[0m\n\u001b[0;32m     31\u001b[0m \u001b[1;33m\u001b[0m\u001b[0m\n",
      "\u001b[1;32m~\\anaconda3\\lib\\site-packages\\binance_f\\requestclient.py\u001b[0m in \u001b[0;36mget_position_v2\u001b[1;34m(self)\u001b[0m\n\u001b[0;32m    575\u001b[0m         \u001b[0mGET\u001b[0m \u001b[1;33m/\u001b[0m\u001b[0mfapi\u001b[0m\u001b[1;33m/\u001b[0m\u001b[0mv2\u001b[0m\u001b[1;33m/\u001b[0m\u001b[0mpositionRisk\u001b[0m \u001b[1;33m(\u001b[0m\u001b[0mHMAC\u001b[0m \u001b[0mSHA256\u001b[0m\u001b[1;33m)\u001b[0m \u001b[0mGet\u001b[0m \u001b[0mcurrent\u001b[0m \u001b[0maccount\u001b[0m \u001b[0minformation\u001b[0m\u001b[1;33m.\u001b[0m\u001b[1;33m\u001b[0m\u001b[1;33m\u001b[0m\u001b[0m\n\u001b[0;32m    576\u001b[0m         \"\"\"\n\u001b[1;32m--> 577\u001b[1;33m         \u001b[0mresponse\u001b[0m \u001b[1;33m=\u001b[0m \u001b[0mcall_sync\u001b[0m\u001b[1;33m(\u001b[0m\u001b[0mself\u001b[0m\u001b[1;33m.\u001b[0m\u001b[0mrequest_impl\u001b[0m\u001b[1;33m.\u001b[0m\u001b[0mget_position_v2\u001b[0m\u001b[1;33m(\u001b[0m\u001b[1;33m)\u001b[0m\u001b[1;33m)\u001b[0m\u001b[1;33m\u001b[0m\u001b[1;33m\u001b[0m\u001b[0m\n\u001b[0m\u001b[0;32m    578\u001b[0m         \u001b[0mself\u001b[0m\u001b[1;33m.\u001b[0m\u001b[0mrefresh_limits\u001b[0m\u001b[1;33m(\u001b[0m\u001b[0mresponse\u001b[0m\u001b[1;33m[\u001b[0m\u001b[1;36m1\u001b[0m\u001b[1;33m]\u001b[0m\u001b[1;33m)\u001b[0m\u001b[1;33m\u001b[0m\u001b[1;33m\u001b[0m\u001b[0m\n\u001b[0;32m    579\u001b[0m         \u001b[1;32mreturn\u001b[0m \u001b[0mresponse\u001b[0m\u001b[1;33m[\u001b[0m\u001b[1;36m0\u001b[0m\u001b[1;33m]\u001b[0m\u001b[1;33m\u001b[0m\u001b[1;33m\u001b[0m\u001b[0m\n",
      "\u001b[1;32m~\\anaconda3\\lib\\site-packages\\binance_f\\impl\\restapiinvoker.py\u001b[0m in \u001b[0;36mcall_sync\u001b[1;34m(request)\u001b[0m\n\u001b[0;32m     39\u001b[0m         \u001b[0mjson_wrapper\u001b[0m \u001b[1;33m=\u001b[0m \u001b[0mparse_json_from_string\u001b[0m\u001b[1;33m(\u001b[0m\u001b[0mresponse\u001b[0m\u001b[1;33m.\u001b[0m\u001b[0mtext\u001b[0m\u001b[1;33m)\u001b[0m\u001b[1;33m\u001b[0m\u001b[1;33m\u001b[0m\u001b[0m\n\u001b[0;32m     40\u001b[0m         \u001b[0mlogger\u001b[0m\u001b[1;33m.\u001b[0m\u001b[0mdebug\u001b[0m\u001b[1;33m(\u001b[0m\u001b[0mresponse\u001b[0m\u001b[1;33m.\u001b[0m\u001b[0mtext\u001b[0m\u001b[1;33m)\u001b[0m\u001b[1;33m\u001b[0m\u001b[1;33m\u001b[0m\u001b[0m\n\u001b[1;32m---> 41\u001b[1;33m         \u001b[0mcheck_response\u001b[0m\u001b[1;33m(\u001b[0m\u001b[0mjson_wrapper\u001b[0m\u001b[1;33m)\u001b[0m\u001b[1;33m\u001b[0m\u001b[1;33m\u001b[0m\u001b[0m\n\u001b[0m\u001b[0;32m     42\u001b[0m         \u001b[1;32mreturn\u001b[0m \u001b[1;33m(\u001b[0m\u001b[0mrequest\u001b[0m\u001b[1;33m.\u001b[0m\u001b[0mjson_parser\u001b[0m\u001b[1;33m(\u001b[0m\u001b[0mjson_wrapper\u001b[0m\u001b[1;33m)\u001b[0m\u001b[1;33m,\u001b[0m\u001b[0mlimits\u001b[0m\u001b[1;33m)\u001b[0m\u001b[1;33m\u001b[0m\u001b[1;33m\u001b[0m\u001b[0m\n\u001b[0;32m     43\u001b[0m     \u001b[1;32melif\u001b[0m \u001b[0mrequest\u001b[0m\u001b[1;33m.\u001b[0m\u001b[0mmethod\u001b[0m \u001b[1;33m==\u001b[0m \u001b[1;34m\"POST\"\u001b[0m\u001b[1;33m:\u001b[0m\u001b[1;33m\u001b[0m\u001b[1;33m\u001b[0m\u001b[0m\n",
      "\u001b[1;32m~\\anaconda3\\lib\\site-packages\\binance_f\\impl\\restapiinvoker.py\u001b[0m in \u001b[0;36mcheck_response\u001b[1;34m(json_wrapper)\u001b[0m\n\u001b[0;32m     23\u001b[0m         \u001b[0mmsg\u001b[0m \u001b[1;33m=\u001b[0m \u001b[0mjson_wrapper\u001b[0m\u001b[1;33m.\u001b[0m\u001b[0mget_string_or_default\u001b[0m\u001b[1;33m(\u001b[0m\u001b[1;34m\"msg\"\u001b[0m\u001b[1;33m,\u001b[0m \u001b[1;34m\"\"\u001b[0m\u001b[1;33m)\u001b[0m\u001b[1;33m\u001b[0m\u001b[1;33m\u001b[0m\u001b[0m\n\u001b[0;32m     24\u001b[0m         \u001b[1;32mif\u001b[0m \u001b[0mcode\u001b[0m \u001b[1;33m!=\u001b[0m \u001b[1;36m200\u001b[0m\u001b[1;33m:\u001b[0m\u001b[1;33m\u001b[0m\u001b[1;33m\u001b[0m\u001b[0m\n\u001b[1;32m---> 25\u001b[1;33m             \u001b[1;32mraise\u001b[0m \u001b[0mBinanceApiException\u001b[0m\u001b[1;33m(\u001b[0m\u001b[0mBinanceApiException\u001b[0m\u001b[1;33m.\u001b[0m\u001b[0mEXEC_ERROR\u001b[0m\u001b[1;33m,\u001b[0m \u001b[1;34m\"[Executing] \"\u001b[0m \u001b[1;33m+\u001b[0m \u001b[0mstr\u001b[0m\u001b[1;33m(\u001b[0m\u001b[0mcode\u001b[0m\u001b[1;33m)\u001b[0m \u001b[1;33m+\u001b[0m \u001b[1;34m\": \"\u001b[0m \u001b[1;33m+\u001b[0m \u001b[0mmsg\u001b[0m\u001b[1;33m)\u001b[0m\u001b[1;33m\u001b[0m\u001b[1;33m\u001b[0m\u001b[0m\n\u001b[0m\u001b[0;32m     26\u001b[0m \u001b[1;33m\u001b[0m\u001b[0m\n\u001b[0;32m     27\u001b[0m \u001b[1;32mdef\u001b[0m \u001b[0mget_limits_usage\u001b[0m\u001b[1;33m(\u001b[0m\u001b[0mresponse\u001b[0m\u001b[1;33m)\u001b[0m\u001b[1;33m:\u001b[0m\u001b[1;33m\u001b[0m\u001b[1;33m\u001b[0m\u001b[0m\n",
      "\u001b[1;31mBinanceApiException\u001b[0m: ('ExecuteError', '[Executing] -2015: Invalid API-key, IP, or permissions for action, request ip: 168.131.206.182')"
     ]
    }
   ],
   "source": [
    "import binance_d\n",
    "import binance_f\n",
    "import pandas as pd\n",
    "import numpy as np\n",
    "import os\n",
    "import datetime\n",
    "\n",
    "\n",
    "from binance.enums import *\n",
    "from binance.exceptions import BinanceAPIException, BinanceOrderException\n",
    "from binance.client import Client\n",
    "from binance_f import RequestClient\n",
    "from binance_f.constant.test import *\n",
    "from binance_f.base.printobject import *\n",
    "from binance_f.constant.system import RestApiDefine\n",
    "from binance_f.impl.restapirequestimpl import RestApiRequestImpl\n",
    "from binance_f.impl.restapiinvoker import call_sync\n",
    "from binance_f.model.constant import *\n",
    "\n",
    "\n",
    "binance_api= 'vDiLBxzA2VPlSuBLYXiDF47mScyldTANFIdysXlZYbVtcM9MA7g65F0EKPwG1w9k'\n",
    "binance_secret= '3gs0sLJ0HnLsHBmcnqEKH46nEklakikZubDefJEbK8wOusHA8XiDtYj0Xw6LrnLY'\n",
    "\n",
    "\n",
    "# API KEY 설정 (효혁)\n",
    "request_client = RequestClient(api_key = binance_api, secret_key = binance_secret)\n",
    "client = Client(binance_api, binance_secret)\n",
    "\n",
    "result = request_client.get_position_v2()\n",
    "PrintMix.print_data(result)\n",
    "\n"
   ]
  },
  {
   "cell_type": "code",
   "execution_count": null,
   "metadata": {},
   "outputs": [],
   "source": []
  }
 ],
 "metadata": {
  "kernelspec": {
   "display_name": "Python 3",
   "language": "python",
   "name": "python3"
  },
  "language_info": {
   "codemirror_mode": {
    "name": "ipython",
    "version": 3
   },
   "file_extension": ".py",
   "mimetype": "text/x-python",
   "name": "python",
   "nbconvert_exporter": "python",
   "pygments_lexer": "ipython3",
   "version": "3.8.5"
  }
 },
 "nbformat": 4,
 "nbformat_minor": 4
}
