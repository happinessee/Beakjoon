{
 "cells": [
  {
   "cell_type": "code",
   "execution_count": null,
   "metadata": {},
   "outputs": [],
   "source": [
    "# 10:34 -> 10:48\n",
    "case = int(input())\n",
    "num_list = list(map(int, input().split()))\n",
    "\n",
    "result = 0\n",
    "for i in num_list :\n",
    "    \n",
    "    count = 0\n",
    "    \n",
    "    if (i == 1) : # 1은 소수가 아니다. -> 다음 반복문으로 넘겨준다.\n",
    "        continue\n",
    "    \n",
    "    for j in range(1, i + 1):  # 1부터 자기 자신까지 나누어야 하기 때문.\n",
    "        \n",
    "        if (i % j == 0) :\n",
    "            count += 1\n",
    "        \n",
    "    if (count == 2) :  # count 가 2이면 1과 자기 자신으로만 나누어졌다는 것을 뜻한다. == 소수\n",
    "        result += 1\n",
    "        \n",
    "print(result)\n"
   ]
  }
 ],
 "metadata": {
  "kernelspec": {
   "display_name": "Python 3",
   "language": "python",
   "name": "python3"
  },
  "language_info": {
   "codemirror_mode": {
    "name": "ipython",
    "version": 3
   },
   "file_extension": ".py",
   "mimetype": "text/x-python",
   "name": "python",
   "nbconvert_exporter": "python",
   "pygments_lexer": "ipython3",
   "version": "3.8.5"
  }
 },
 "nbformat": 4,
 "nbformat_minor": 4
}
