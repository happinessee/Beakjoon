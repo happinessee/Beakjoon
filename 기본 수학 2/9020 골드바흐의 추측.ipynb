{
 "cells": [
  {
   "cell_type": "code",
   "execution_count": 94,
   "metadata": {},
   "outputs": [
    {
     "name": "stdin",
     "output_type": "stream",
     "text": [
      " 3\n",
      " 16\n"
     ]
    },
    {
     "name": "stdout",
     "output_type": "stream",
     "text": [
      "5 11\n"
     ]
    },
    {
     "name": "stdin",
     "output_type": "stream",
     "text": [
      " 18\n"
     ]
    },
    {
     "name": "stdout",
     "output_type": "stream",
     "text": [
      "7 11\n"
     ]
    },
    {
     "name": "stdin",
     "output_type": "stream",
     "text": [
      " 6\n"
     ]
    },
    {
     "name": "stdout",
     "output_type": "stream",
     "text": [
      "3 3\n"
     ]
    }
   ],
   "source": [
    "### 골드바흐의 추측은 유명한 정수론의 미해결 문제로, 2보다 큰 모든 짝수는 두 소수의 합으로 나타낼 수 있다는 것\n",
    "# 2보다 큰 짝수 n이 주어졌을 때, n의 골드바흐 파티션을 출력하는 프로그램을 작성하라.\n",
    "# 파티션이 여러 가지일 경우에는 두 소수의 차이가 가장 작은 것을 출력하라\n",
    "# 14:57 ~\n",
    "\n",
    "import math\n",
    "\n",
    "# 4 <= n <= 10,000\n",
    "\n",
    "case = int(input())\n",
    "\n",
    "# 에라토스테네스의 체 알고리즘으로 먼저 소수만 구해준다. 10000까지 이므로 혹시 모르니 10000까지 구해주겠다.\n",
    "prime_number = list(range(0, 10001))\n",
    "prime_number[0] = 0\n",
    "prime_number[1] = 0\n",
    "\n",
    "for i in range (2, 10001) :\n",
    "    for j in range (i + i, 10001, i)  :\n",
    "        if (prime_number[j] == 0) :\n",
    "            continue\n",
    "        prime_number[j] = 0\n",
    "# 슬슬 실행시간 조건에 만족할 수 있을지 걱정된다.\n",
    "# 나는 처음에 2중 반복문으로 소수의 모든 조합을 찾아 가장 차이가 적은 소수의 조합을 선택했다.. 이게 맞나??\n",
    "\n",
    "# 인터넷을 보고 중앙에서부터 찾는 걸로 알고리즘을 바꾸었다.\n",
    "# 10000 이하의 짝수에서는 반드시 파티션이 있기 때문에 이런 식으로 알고리즘을 작성했다.\n",
    "\n",
    "for k in range(case) :\n",
    "    n = int(input())\n",
    "    # 초기값 설정\n",
    "    size = 100000\n",
    "    tmp = 0\n",
    "    tmp1 = 0\n",
    "    tmp2 = 0\n",
    "    \n",
    "    i = n//2\n",
    "    j = i\n",
    "    while (True) :\n",
    "        if (n == prime_number[i] + prime_number[j]) :\n",
    "            print(prime_number[i], prime_number[j])\n",
    "            break\n",
    "        else :\n",
    "            i -= 1\n",
    "            j += 1"
   ]
  },
  {
   "cell_type": "code",
   "execution_count": null,
   "metadata": {},
   "outputs": [],
   "source": []
  }
 ],
 "metadata": {
  "kernelspec": {
   "display_name": "Python 3",
   "language": "python",
   "name": "python3"
  },
  "language_info": {
   "codemirror_mode": {
    "name": "ipython",
    "version": 3
   },
   "file_extension": ".py",
   "mimetype": "text/x-python",
   "name": "python",
   "nbconvert_exporter": "python",
   "pygments_lexer": "ipython3",
   "version": "3.8.5"
  }
 },
 "nbformat": 4,
 "nbformat_minor": 4
}
