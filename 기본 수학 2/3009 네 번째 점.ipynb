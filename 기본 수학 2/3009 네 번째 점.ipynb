{
 "cells": [
  {
   "cell_type": "code",
   "execution_count": 3,
   "metadata": {},
   "outputs": [
    {
     "name": "stdin",
     "output_type": "stream",
     "text": [
      " 30 20\n",
      " 10 10\n",
      " 10 20\n"
     ]
    },
    {
     "name": "stdout",
     "output_type": "stream",
     "text": [
      "30 10\n"
     ]
    }
   ],
   "source": [
    "# 세 점이 주어졌을 때, 직사각형을 만들기 위해 필요한 네 번째 점의 좌표를 구하시오.\n",
    "# 단 점의 좌표는 정수\n",
    "\n",
    "x1, y1 = map(int, input().split())\n",
    "x2, y2 = map(int, input().split())\n",
    "x3, y3 = map(int, input().split())\n",
    "\n",
    "if (x1 == x2) :\n",
    "    \n",
    "    if (y1 == y3) :\n",
    "        x4 = x3\n",
    "        y4 = y2\n",
    "        \n",
    "    else :\n",
    "        x4 = x3\n",
    "        y4 = y1\n",
    "        \n",
    "        \n",
    "elif (x1 == x3) :\n",
    "    \n",
    "    if (y1 == y2) :\n",
    "        x4 = x2\n",
    "        y4 = y3\n",
    "        \n",
    "    else :\n",
    "        x4 = x2\n",
    "        y4 = y1\n",
    "\n",
    "elif (x2 == x3) :\n",
    "    \n",
    "    if (y2 == y1) :\n",
    "        x4 = x1\n",
    "        y4 = y3\n",
    "        \n",
    "    else :\n",
    "        x4 = x1\n",
    "        y4 = y2\n",
    "        \n",
    "print(x4, y4)\n"
   ]
  },
  {
   "cell_type": "code",
   "execution_count": null,
   "metadata": {},
   "outputs": [],
   "source": []
  }
 ],
 "metadata": {
  "kernelspec": {
   "display_name": "Python 3",
   "language": "python",
   "name": "python3"
  },
  "language_info": {
   "codemirror_mode": {
    "name": "ipython",
    "version": 3
   },
   "file_extension": ".py",
   "mimetype": "text/x-python",
   "name": "python",
   "nbconvert_exporter": "python",
   "pygments_lexer": "ipython3",
   "version": "3.8.5"
  }
 },
 "nbformat": 4,
 "nbformat_minor": 4
}
