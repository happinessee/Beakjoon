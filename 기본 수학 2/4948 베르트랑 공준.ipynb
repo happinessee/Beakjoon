{
 "cells": [
  {
   "cell_type": "code",
   "execution_count": 6,
   "metadata": {},
   "outputs": [
    {
     "name": "stdin",
     "output_type": "stream",
     "text": [
      " 123456\n"
     ]
    },
    {
     "name": "stdout",
     "output_type": "stream",
     "text": [
      "10186\n"
     ]
    },
    {
     "name": "stdin",
     "output_type": "stream",
     "text": [
      " 0\n"
     ]
    }
   ],
   "source": [
    "# 10:19 ~ 10:58\n",
    "# n보다 크고 2n보다 작거나 같은 소수의 개수를 출력하는 프로그램이다.\n",
    "import math\n",
    "\n",
    "while(True) :\n",
    "    \n",
    "    n = int(input())\n",
    "    \n",
    "    if (n == 0) : # 0을 입력하면 프로그램 종료\n",
    "        break\n",
    "        \n",
    "    if (n == 1) : # 1은 소수가 아니므로\n",
    "        print(1)\n",
    "        continue\n",
    "    \n",
    "    count = 0\n",
    "    #이제 소수를 찾아 개수를 count해준다.\n",
    "    for i in range(n + 1, 2 * n + 1) : # n보다 크고, 2n보다 작은 소수의 개수를 찾기 위해서\n",
    "        \n",
    "        state = True # 소수인지를 판별할 변수\n",
    "            \n",
    "        for j in range (2, int(math.sqrt(i)) + 1) : # 소수 판별\n",
    "            \n",
    "            if (i % j == 0) : # 소수가 아니라면 state = False, 반복문을 나온다.\n",
    "                state = False\n",
    "                break\n",
    "                \n",
    "        \n",
    "        if (state) :  # 검사 상태가 True, 즉 소수라면 count를 1 더해준다. \n",
    "            # print(i,'는 소수') i가 소수가 잘 나오는지 test할 print문\n",
    "            count += 1\n",
    "            \n",
    "    print(count)\n",
    "\n",
    "#--------------------------------------------------------------------------------\n",
    "# error note\n",
    "# 소수의 개수가 계산이 되지 않았다. 방금 1분만에 깨달은 사실은 count를 반복문 안에서 초기화 했기 때문이다.\n",
    "# 처음에 생각을 잘 하고 구현해야겠다. 조건문과 변수의 위치 설정을 이상하게 해 바꾸는 일이 많다.\n",
    "\n",
    "# 13을 입력했을 때 3이 출력되어야 하는데 4가 출력되었다.\n",
    "# 그 이외의 testcase는 올바르게 출력되었다. -> n보다 '크고', 2n보다 작거나 같은. \n",
    "# 반복문의 범위를 n , 2n + 1에서 n + 1, 2n + 1로 수정해주었다."
   ]
  },
  {
   "cell_type": "markdown",
   "metadata": {},
   "source": [
    "from math import sqrt\n",
    "while(1):\n",
    "    number=int(input())\n",
    "    if number==0:\n",
    "        break\n",
    "    number2=2*number\n",
    "    cnt=0\n",
    "    for i in range(number+1, number2+1):\n",
    "        if i==1:\n",
    "            continue\n",
    "        elif i==2:\n",
    "            cnt+=1\n",
    "            continue\n",
    "        else:\n",
    "            for j in range(2, int(sqrt(i)+1)):\n",
    "                if i%j==0:\n",
    "                    break\n",
    "            else:\n",
    "                cnt+=1\n",
    "    print(cnt)\n",
    "    \n",
    "# 다른 소스코드"
   ]
  },
  {
   "cell_type": "code",
   "execution_count": null,
   "metadata": {},
   "outputs": [],
   "source": []
  }
 ],
 "metadata": {
  "kernelspec": {
   "display_name": "Python 3",
   "language": "python",
   "name": "python3"
  },
  "language_info": {
   "codemirror_mode": {
    "name": "ipython",
    "version": 3
   },
   "file_extension": ".py",
   "mimetype": "text/x-python",
   "name": "python",
   "nbconvert_exporter": "python",
   "pygments_lexer": "ipython3",
   "version": "3.8.5"
  }
 },
 "nbformat": 4,
 "nbformat_minor": 4
}
