{
 "cells": [
  {
   "cell_type": "code",
   "execution_count": 54,
   "metadata": {},
   "outputs": [
    {
     "name": "stdin",
     "output_type": "stream",
     "text": [
      " 0\n",
      " 10\n"
     ]
    },
    {
     "name": "stdout",
     "output_type": "stream",
     "text": [
      "17\n",
      "2\n"
     ]
    }
   ],
   "source": [
    "# 22:20 ~ 22:56\n",
    "# 가장 짧은 수를 검사하며 소수를 판별하는 방법은 입력받은 X를 2부터 X의까지 제곱근까지의 숫자만 나누어 떨어지는지 확인하는 것이다!\n",
    "import math\n",
    "\n",
    "m = int(input())\n",
    "n = int(input())\n",
    "\n",
    "total = 0\n",
    "small = 0\n",
    "\n",
    "\n",
    "\n",
    "for i in range(m , n + 1) : # m부터 n까지의 소수를 판별한다.\n",
    "    \n",
    "    count = 0 # 2번째 반복문에서 걸렸는지 걸리지 않았는지를 판별하기 위해 count를 넣어주었다.\n",
    "    \n",
    "    for j in range(2, int(math.sqrt(i)) + 1) : # 2, 2라면 실행이 안되어서 2만 실행이 되게 +1을 해주었다. 되게 기초적인 실수를 했네\n",
    "        if (i % j == 0) :\n",
    "            count = 1\n",
    "            break\n",
    "        \n",
    "    if (count == 0) : # 소수라면 total에 i를 더해주고,\n",
    "        total += i\n",
    "        \n",
    "        if (small == 0) : # 가장 작은 값을 small 변수에 넣어준다.\n",
    "            small = i\n",
    "\n",
    "# m이나 n 사이에 1을 포함하고 있다면 위의 알고리즘으로 판별할 수 없으므로 1을 제거해주고 small의 값을 인위적으로 제거해준다.\n",
    "if (m <= 1 or n <= 1) :\n",
    "    total -= 1\n",
    "    if ((m == 1 or m == 0) and n >= 2) :\n",
    "        small = 2\n",
    "    \n",
    "if (total == 0) :\n",
    "    print(-1)\n",
    "else :\n",
    "    print(total)\n",
    "    print(small)\n",
    "        "
   ]
  },
  {
   "cell_type": "code",
   "execution_count": null,
   "metadata": {},
   "outputs": [],
   "source": []
  },
  {
   "cell_type": "code",
   "execution_count": null,
   "metadata": {},
   "outputs": [],
   "source": []
  }
 ],
 "metadata": {
  "kernelspec": {
   "display_name": "Python 3",
   "language": "python",
   "name": "python3"
  },
  "language_info": {
   "codemirror_mode": {
    "name": "ipython",
    "version": 3
   },
   "file_extension": ".py",
   "mimetype": "text/x-python",
   "name": "python",
   "nbconvert_exporter": "python",
   "pygments_lexer": "ipython3",
   "version": "3.8.5"
  }
 },
 "nbformat": 4,
 "nbformat_minor": 4
}
