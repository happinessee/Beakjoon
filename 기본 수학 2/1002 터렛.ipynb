{
 "cells": [
  {
   "cell_type": "code",
   "execution_count": 9,
   "metadata": {},
   "outputs": [
    {
     "name": "stdin",
     "output_type": "stream",
     "text": [
      " 3\n",
      " 0 0 13 40 0 37\n"
     ]
    },
    {
     "name": "stdout",
     "output_type": "stream",
     "text": [
      "2\n"
     ]
    },
    {
     "name": "stdin",
     "output_type": "stream",
     "text": [
      " 0 0 3 0 7 4\n"
     ]
    },
    {
     "name": "stdout",
     "output_type": "stream",
     "text": [
      "1\n"
     ]
    },
    {
     "name": "stdin",
     "output_type": "stream",
     "text": [
      " 1 1 1 1 1 5\n"
     ]
    },
    {
     "name": "stdout",
     "output_type": "stream",
     "text": [
      "0\n"
     ]
    }
   ],
   "source": [
    "# 두 원의 교점을 파악하는 문제이다.\n",
    "# 터렛 1 좌표 (x1, y1)와 터렛 2 좌표 (x2, y2)가 주어지고,\n",
    "# 터렛 1이 계산한 적 까지의 거리 r1과 터렛 2가 계산한 류재명과의 거리 r2가 주어졌을 때,\n",
    "# 적이 있을 수 있는 좌표의 수를 출력하는 프로그램을 작성하시오.\n",
    "\n",
    "# 내가 생각한 알고리즘\n",
    "# if 둘이 같은 원이라면 -1출력\n",
    "# else :\n",
    "#     if 좌표가 다르고 원이 밖에 있는 경우\n",
    "#     elif 좌표가 다르고 원이 원 안에 있는 경우\n",
    "#     끝\n",
    "    \n",
    "    \n",
    "testcase = int(input())\n",
    "\n",
    "for i in range (testcase) :\n",
    "    \n",
    "    x1, y1, r1, x2, y2, r2 = map(int, input().split())\n",
    "\n",
    "    xy_distance = ((x1 - x2) ** 2 + (y1 - y2) ** 2) ** (1/2)\n",
    "    rminus_distance = abs(r2 - r1)\n",
    "    rplus_distance = r1 + r2\n",
    "\n",
    "#     print(xy_distance)\n",
    "#     print(rminus_distance)\n",
    "#     print(rplus_distance)\n",
    "    \n",
    "\n",
    "    if (x1 == x2 and y1 == y2 and r1 == r2) :\n",
    "        print(-1)\n",
    "        continue\n",
    "    \n",
    "    elif (xy_distance != 0 and rminus_distance < xy_distance and rplus_distance > xy_distance)  : # 원 안에 있을 때\n",
    "        print(2)\n",
    "        continue\n",
    "    \n",
    "    elif (xy_distance != 0 and (rplus_distance == xy_distance or rminus_distance == xy_distance)) :\n",
    "        print(1)\n",
    "        continue\n",
    "    \n",
    "    elif ((xy_distance == 0 and rminus_distance != 0) or (xy_distance != 0 and rplus_distance < xy_distance) or (xy_distance != 0 and rminus_distance > xy_distance)) :\n",
    "        print(0)\n",
    "        continue\n",
    "    \n",
    "    \n",
    "            \n",
    "    \n",
    "    "
   ]
  },
  {
   "cell_type": "code",
   "execution_count": null,
   "metadata": {},
   "outputs": [],
   "source": [
    "testcase = int(input())\n",
    "\n",
    "for i in range (testcase) :\n",
    "    \n",
    "    x1, y1, r1, x2, y2, r2 = map(int, input().split())\n",
    "\n",
    "    xy_distance = ((x1 - x2) ** 2 + (y1 - y2) ** 2) ** (1/2)\n",
    "    rminus_distance = abs(r2 - r1)\n",
    "    rplus_distance = abs(r1 + r2)\n",
    "\n",
    "#     print(xy_distance)\n",
    "#     print(rminus_distance)\n",
    "#     print(rplus_distance)\n",
    "    \n",
    "\n",
    "    if (x1 == x2 and y1 == y2 and r1 == r2) :\n",
    "#         print('같은 원임')\n",
    "        print(-1)\n",
    "        continue\n",
    "    \n",
    "    if (abs(x2) < abs(x1 + r1) and abs(y2) < abs(y1 + r1))  : # 원 안에 있을 때\n",
    "#         print('원 안에 있음')\n",
    "        if (xy_distance > rminus_distance) :\n",
    "            print(2)\n",
    "            continue\n",
    "        elif (xy_distance == rminus_distance) :\n",
    "            print(1)\n",
    "            continue\n",
    "        else :\n",
    "            print(0)\n",
    "            continue\n",
    "    \n",
    "    elif (abs(x2) > abs(x1 + r1) or abs(y2) > abs(y1 + r1)) :\n",
    "#         print('원 밖에 있음')\n",
    "        if (xy_distance < rplus_distance) :\n",
    "            print(2)\n",
    "            continue\n",
    "        elif (xy_distance == rplus_distance) :\n",
    "            print(1)\n",
    "            continue\n",
    "        else :\n",
    "            print(0)\n",
    "            continue\n",
    "            \n",
    "    \n",
    "    "
   ]
  },
  {
   "cell_type": "code",
   "execution_count": null,
   "metadata": {},
   "outputs": [],
   "source": [
    "3\n",
    "0 0 13 40 0 37\n",
    "0 0 3 0 7 4\n",
    "1 1 1 1 1 5"
   ]
  },
  {
   "cell_type": "code",
   "execution_count": null,
   "metadata": {},
   "outputs": [],
   "source": []
  }
 ],
 "metadata": {
  "kernelspec": {
   "display_name": "Python 3",
   "language": "python",
   "name": "python3"
  },
  "language_info": {
   "codemirror_mode": {
    "name": "ipython",
    "version": 3
   },
   "file_extension": ".py",
   "mimetype": "text/x-python",
   "name": "python",
   "nbconvert_exporter": "python",
   "pygments_lexer": "ipython3",
   "version": "3.8.5"
  }
 },
 "nbformat": 4,
 "nbformat_minor": 4
}
