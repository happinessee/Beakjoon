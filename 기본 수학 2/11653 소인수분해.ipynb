{
 "cells": [
  {
   "cell_type": "code",
   "execution_count": 10,
   "metadata": {},
   "outputs": [
    {
     "name": "stdin",
     "output_type": "stream",
     "text": [
      " 6\n"
     ]
    },
    {
     "name": "stdout",
     "output_type": "stream",
     "text": [
      "2\n",
      "3\n"
     ]
    }
   ],
   "source": [
    "# 9:28 ~ 9:32\n",
    "# 특정 수를 소인수분해해서 일렬로 출력하는 알고리즘이다.\n",
    "n = int(input())\n",
    "i = 2\n",
    "\n",
    "while (True) :\n",
    "    if (n == 1) :\n",
    "        break\n",
    "        \n",
    "    if (n % i == 0) :\n",
    "        n /= i\n",
    "        print(i)\n",
    "        continue\n",
    "    \n",
    "    if (n == 1) :\n",
    "        break\n",
    "    \n",
    "    i += 1  # 반복문에는 반드시 조건을 탈출할 수 있는 확실한 문장을 넣도록 하자.\n",
    "        "
   ]
  }
 ],
 "metadata": {
  "kernelspec": {
   "display_name": "Python 3",
   "language": "python",
   "name": "python3"
  },
  "language_info": {
   "codemirror_mode": {
    "name": "ipython",
    "version": 3
   },
   "file_extension": ".py",
   "mimetype": "text/x-python",
   "name": "python",
   "nbconvert_exporter": "python",
   "pygments_lexer": "ipython3",
   "version": "3.8.5"
  }
 },
 "nbformat": 4,
 "nbformat_minor": 4
}
