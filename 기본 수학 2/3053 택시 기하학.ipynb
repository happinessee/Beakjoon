{
 "cells": [
  {
   "cell_type": "code",
   "execution_count": 16,
   "metadata": {},
   "outputs": [
    {
     "name": "stdin",
     "output_type": "stream",
     "text": [
      " 42\n"
     ]
    },
    {
     "name": "stdout",
     "output_type": "stream",
     "text": [
      "5541.769441\n",
      "3528.000000\n"
     ]
    }
   ],
   "source": [
    "# 14:56 ~ 14:58\n",
    "# 택시 기하학에서 두 점 T1(x1,y1), T2(x2,y2) 사이의 거리는 다음과 같이 구할 수 있다.\n",
    "# D(T1,T2) = |x1-x2| + |y1-y2|\n",
    "\n",
    "# R <= 10000 자연수\n",
    "\n",
    "# pi * r ** 2 유클리드 기하학  2 * r ** 2 택시 기하학\n",
    "\n",
    "num = int(input())\n",
    "pi = 3.14159265358979323\n",
    "\n",
    "num2 = num ** 2\n",
    "\n",
    "print('%.6f' %round((pi * num ** 2), 8))\n",
    "print('%.6f' %(2 * num ** 2))"
   ]
  },
  {
   "cell_type": "code",
   "execution_count": null,
   "metadata": {},
   "outputs": [],
   "source": []
  }
 ],
 "metadata": {
  "kernelspec": {
   "display_name": "Python 3",
   "language": "python",
   "name": "python3"
  },
  "language_info": {
   "codemirror_mode": {
    "name": "ipython",
    "version": 3
   },
   "file_extension": ".py",
   "mimetype": "text/x-python",
   "name": "python",
   "nbconvert_exporter": "python",
   "pygments_lexer": "ipython3",
   "version": "3.8.5"
  }
 },
 "nbformat": 4,
 "nbformat_minor": 4
}
