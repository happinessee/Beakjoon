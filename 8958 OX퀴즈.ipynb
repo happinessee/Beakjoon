{
 "cells": [
  {
   "cell_type": "code",
   "execution_count": 4,
   "metadata": {},
   "outputs": [
    {
     "name": "stdin",
     "output_type": "stream",
     "text": [
      " 1\n",
      " OXOXOOXXOXOX\n"
     ]
    },
    {
     "name": "stdout",
     "output_type": "stream",
     "text": [
      "7\n"
     ]
    }
   ],
   "source": [
    "n = int(input())\n",
    "\n",
    "def process(a) :\n",
    "    arr = list(a)\n",
    "    count = 0\n",
    "    score = 0\n",
    "    for i in range(len(arr)) :\n",
    "        if(arr[i] == 'O') :\n",
    "            count += 1\n",
    "            score += count\n",
    "        else :\n",
    "            count = 0\n",
    "    print(score)\n",
    "\n",
    "for i in range(n) :\n",
    "    ox = input()\n",
    "    process(a = ox)\n",
    "    "
   ]
  },
  {
   "cell_type": "code",
   "execution_count": null,
   "metadata": {},
   "outputs": [],
   "source": []
  }
 ],
 "metadata": {
  "kernelspec": {
   "display_name": "Python 3",
   "language": "python",
   "name": "python3"
  },
  "language_info": {
   "codemirror_mode": {
    "name": "ipython",
    "version": 3
   },
   "file_extension": ".py",
   "mimetype": "text/x-python",
   "name": "python",
   "nbconvert_exporter": "python",
   "pygments_lexer": "ipython3",
   "version": "3.8.5"
  }
 },
 "nbformat": 4,
 "nbformat_minor": 4
}
